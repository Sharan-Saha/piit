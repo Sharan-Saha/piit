{
 "cells": [
  {
   "cell_type": "markdown",
   "id": "6054b9c4-a481-4164-aaae-43594d2b9af0",
   "metadata": {},
   "source": [
    "# LIST"
   ]
  },
  {
   "cell_type": "code",
   "execution_count": 1,
   "id": "f36d6427-5173-42e1-9452-0e3a17cfa531",
   "metadata": {},
   "outputs": [],
   "source": [
    "x = [1, 2 , 3 , 4 , 5]"
   ]
  },
  {
   "cell_type": "code",
   "execution_count": 2,
   "id": "bdb6bc5e-f5a5-435a-a8fe-599f8145b5e3",
   "metadata": {},
   "outputs": [
    {
     "name": "stdout",
     "output_type": "stream",
     "text": [
      "[1, 2, 3, 4, 5]\n"
     ]
    }
   ],
   "source": [
    "print(x)"
   ]
  },
  {
   "cell_type": "markdown",
   "id": "a8adcdee-59d5-4dee-951e-0a145bd1d7e9",
   "metadata": {},
   "source": [
    "## type, shows what type are the elements"
   ]
  },
  {
   "cell_type": "code",
   "execution_count": 3,
   "id": "32fd7918-ecde-4806-8af8-92ce0167a577",
   "metadata": {},
   "outputs": [
    {
     "data": {
      "text/plain": [
       "list"
      ]
     },
     "execution_count": 3,
     "metadata": {},
     "output_type": "execute_result"
    }
   ],
   "source": [
    "type(x)"
   ]
  },
  {
   "cell_type": "code",
   "execution_count": 14,
   "id": "2b87b664-6b68-4b1a-a4d6-5367912fab81",
   "metadata": {},
   "outputs": [],
   "source": [
    "x1 = [1, 10, 15.67, \"Nayeema\" , 'PIIT', True, 45, 10]"
   ]
  },
  {
   "cell_type": "code",
   "execution_count": 15,
   "id": "a070559f-ec95-40c8-816d-edf54662a35d",
   "metadata": {},
   "outputs": [
    {
     "data": {
      "text/plain": [
       "[1, 10, 15.67, 'Nayeema', 'PIIT', True, 45, 10]"
      ]
     },
     "execution_count": 15,
     "metadata": {},
     "output_type": "execute_result"
    }
   ],
   "source": [
    "x1"
   ]
  },
  {
   "cell_type": "markdown",
   "id": "73a7f216-709d-452d-971a-6e5341dac863",
   "metadata": {},
   "source": [
    "## len, shows the length of the element"
   ]
  },
  {
   "cell_type": "code",
   "execution_count": 16,
   "id": "ef575056-08b9-4027-bc99-ab83df631276",
   "metadata": {},
   "outputs": [
    {
     "data": {
      "text/plain": [
       "8"
      ]
     },
     "execution_count": 16,
     "metadata": {},
     "output_type": "execute_result"
    }
   ],
   "source": [
    "len(x1)"
   ]
  },
  {
   "cell_type": "code",
   "execution_count": 17,
   "id": "a796c2f8-ef9e-417b-866e-160b08517486",
   "metadata": {},
   "outputs": [
    {
     "data": {
      "text/plain": [
       "True"
      ]
     },
     "execution_count": 17,
     "metadata": {},
     "output_type": "execute_result"
    }
   ],
   "source": [
    "x1[5]"
   ]
  },
  {
   "cell_type": "code",
   "execution_count": 18,
   "id": "01e6b02c-1109-456f-b6e7-d6c9c371b325",
   "metadata": {},
   "outputs": [
    {
     "data": {
      "text/plain": [
       "5"
      ]
     },
     "execution_count": 18,
     "metadata": {},
     "output_type": "execute_result"
    }
   ],
   "source": [
    "x[4]"
   ]
  },
  {
   "cell_type": "markdown",
   "id": "4ebc75f2-ab5e-4f6a-9456-111c5378fa2e",
   "metadata": {},
   "source": [
    "## add"
   ]
  },
  {
   "cell_type": "code",
   "execution_count": 79,
   "id": "1c825f60-ada9-46d8-8ac0-5db5aa0f0ec8",
   "metadata": {},
   "outputs": [],
   "source": [
    "x1[4]=\"Mandal\"  # change the element in particular position"
   ]
  },
  {
   "cell_type": "code",
   "execution_count": 22,
   "id": "b91bfcbc-29c8-440f-9fae-2b8f7932d7fd",
   "metadata": {},
   "outputs": [
    {
     "data": {
      "text/plain": [
       "[1, 10, 15.67, 'Nayeema', 'Mandal', True, 45, 10]"
      ]
     },
     "execution_count": 22,
     "metadata": {},
     "output_type": "execute_result"
    }
   ],
   "source": [
    "x1"
   ]
  },
  {
   "cell_type": "code",
   "execution_count": 23,
   "id": "f1bea3b5-c7ff-4334-92e4-f708f0173994",
   "metadata": {},
   "outputs": [],
   "source": [
    "y=x+x1"
   ]
  },
  {
   "cell_type": "code",
   "execution_count": 24,
   "id": "2149394a-1d30-428b-9d07-4e0ccc9a251e",
   "metadata": {},
   "outputs": [
    {
     "data": {
      "text/plain": [
       "[1, 2, 3, 4, 5, 1, 10, 15.67, 'Nayeema', 'Mandal', True, 45, 10]"
      ]
     },
     "execution_count": 24,
     "metadata": {},
     "output_type": "execute_result"
    }
   ],
   "source": [
    "y"
   ]
  },
  {
   "cell_type": "markdown",
   "id": "c70e0ca5-0989-4cc1-98ff-7faef636da3f",
   "metadata": {},
   "source": [
    "### append, inserts new element"
   ]
  },
  {
   "cell_type": "code",
   "execution_count": 25,
   "id": "fc15e660-1b57-41fc-8222-c0e5fb84792e",
   "metadata": {},
   "outputs": [],
   "source": [
    "x.append('Bijata')"
   ]
  },
  {
   "cell_type": "code",
   "execution_count": 26,
   "id": "c959160d-3016-4439-a9ac-e7e74c1b1117",
   "metadata": {},
   "outputs": [
    {
     "data": {
      "text/plain": [
       "[1, 2, 3, 4, 5, 'Bijata']"
      ]
     },
     "execution_count": 26,
     "metadata": {},
     "output_type": "execute_result"
    }
   ],
   "source": [
    "x"
   ]
  },
  {
   "cell_type": "code",
   "execution_count": 27,
   "id": "8e631012-8bdd-46aa-8bb3-03c230d6fd2b",
   "metadata": {},
   "outputs": [],
   "source": [
    "x.append(100)"
   ]
  },
  {
   "cell_type": "code",
   "execution_count": 28,
   "id": "37497f2b-d783-46ec-8b1a-9e16548a3aeb",
   "metadata": {},
   "outputs": [
    {
     "data": {
      "text/plain": [
       "[1, 2, 3, 4, 5, 'Bijata', 100]"
      ]
     },
     "execution_count": 28,
     "metadata": {},
     "output_type": "execute_result"
    }
   ],
   "source": [
    "x"
   ]
  },
  {
   "cell_type": "markdown",
   "id": "eeb115af-e704-4177-ab03-bde67d703c81",
   "metadata": {},
   "source": [
    "### insert, inserts new element with particular place"
   ]
  },
  {
   "cell_type": "code",
   "execution_count": 29,
   "id": "ce639f29-984d-4570-9260-8126ce4027fa",
   "metadata": {},
   "outputs": [],
   "source": [
    "x.insert(1, 'Akki')"
   ]
  },
  {
   "cell_type": "code",
   "execution_count": 30,
   "id": "072639d3-b931-4259-83d0-2e62c188d6bd",
   "metadata": {},
   "outputs": [
    {
     "data": {
      "text/plain": [
       "[1, 'Akki', 2, 3, 4, 5, 'Bijata', 100]"
      ]
     },
     "execution_count": 30,
     "metadata": {},
     "output_type": "execute_result"
    }
   ],
   "source": [
    "x"
   ]
  },
  {
   "cell_type": "markdown",
   "id": "3f09a448-3be0-42b6-b399-4ff222710f75",
   "metadata": {},
   "source": [
    "## reverse, displays from last to first"
   ]
  },
  {
   "cell_type": "code",
   "execution_count": 31,
   "id": "93b3c4ba-cb1d-43e6-bc69-f68a37d90e18",
   "metadata": {},
   "outputs": [],
   "source": [
    "x.reverse()"
   ]
  },
  {
   "cell_type": "code",
   "execution_count": 33,
   "id": "8c66edc2-27e4-4957-ad27-35b7867371d4",
   "metadata": {},
   "outputs": [
    {
     "data": {
      "text/plain": [
       "[100, 'Bijata', 5, 4, 3, 2, 'Akki', 1]"
      ]
     },
     "execution_count": 33,
     "metadata": {},
     "output_type": "execute_result"
    }
   ],
   "source": [
    "x"
   ]
  },
  {
   "cell_type": "markdown",
   "id": "3a8b6705-1d95-4060-ac50-25debd953138",
   "metadata": {},
   "source": [
    "## count, count the repeatation of the element"
   ]
  },
  {
   "cell_type": "code",
   "execution_count": 38,
   "id": "83c02caa-d234-4d49-b889-fe52d3de313c",
   "metadata": {},
   "outputs": [
    {
     "data": {
      "text/plain": [
       "1"
      ]
     },
     "execution_count": 38,
     "metadata": {},
     "output_type": "execute_result"
    }
   ],
   "source": [
    "x.count(5)"
   ]
  },
  {
   "cell_type": "markdown",
   "id": "f038c71f-fafc-4491-a326-175dbe5303c1",
   "metadata": {},
   "source": [
    "## remove, remove particular value"
   ]
  },
  {
   "cell_type": "code",
   "execution_count": 39,
   "id": "987b2674-fc33-4ec1-90ab-a8ccf88bfa8a",
   "metadata": {},
   "outputs": [],
   "source": [
    "x.remove(3)"
   ]
  },
  {
   "cell_type": "code",
   "execution_count": 40,
   "id": "2dd78707-e0d8-48c0-8b68-d98d5d682be2",
   "metadata": {},
   "outputs": [
    {
     "data": {
      "text/plain": [
       "[100, 'Bijata', 5, 4, 2, 'Akki', 1]"
      ]
     },
     "execution_count": 40,
     "metadata": {},
     "output_type": "execute_result"
    }
   ],
   "source": [
    "x"
   ]
  },
  {
   "cell_type": "markdown",
   "id": "092fe5b2-57e7-4b6c-987c-f0388c2b13f1",
   "metadata": {},
   "source": [
    "## pop, remove particular value with dispaly what removed"
   ]
  },
  {
   "cell_type": "code",
   "execution_count": 43,
   "id": "7beec794-a001-4341-bbdd-2b8475c13ce8",
   "metadata": {},
   "outputs": [
    {
     "data": {
      "text/plain": [
       "'Akki'"
      ]
     },
     "execution_count": 43,
     "metadata": {},
     "output_type": "execute_result"
    }
   ],
   "source": [
    "x.pop(4)"
   ]
  },
  {
   "cell_type": "code",
   "execution_count": 44,
   "id": "a0a82886-452d-4f8f-893d-5e1dff4f1815",
   "metadata": {},
   "outputs": [
    {
     "data": {
      "text/plain": [
       "[100, 'Bijata', 5, 4, 1]"
      ]
     },
     "execution_count": 44,
     "metadata": {},
     "output_type": "execute_result"
    }
   ],
   "source": [
    "x"
   ]
  },
  {
   "cell_type": "code",
   "execution_count": 45,
   "id": "d7212c9a-46ae-43e5-9d54-004cde901b46",
   "metadata": {},
   "outputs": [],
   "source": [
    "x.remove(1)"
   ]
  },
  {
   "cell_type": "code",
   "execution_count": 46,
   "id": "51206a5c-d0f6-448c-be71-115228fee65e",
   "metadata": {},
   "outputs": [
    {
     "data": {
      "text/plain": [
       "[100, 'Bijata', 5, 4]"
      ]
     },
     "execution_count": 46,
     "metadata": {},
     "output_type": "execute_result"
    }
   ],
   "source": [
    "x"
   ]
  },
  {
   "cell_type": "code",
   "execution_count": 47,
   "id": "8fa970d3-9bd3-4956-aa9f-9be1c53d4a78",
   "metadata": {},
   "outputs": [
    {
     "name": "stdout",
     "output_type": "stream",
     "text": [
      "['append', 'clear', 'copy', 'count', 'extend', 'index', 'insert', 'pop', 'remove', 'reverse', 'sort']\n"
     ]
    }
   ],
   "source": [
    "methods = [method for method in dir(list) if callable(getattr(list, method)) and not method.startswith('__')]\n",
    "print(methods)"
   ]
  },
  {
   "cell_type": "markdown",
   "id": "52923185-1a83-43e9-b4dc-d1d972d8ec73",
   "metadata": {},
   "source": [
    "## clear, clears the list"
   ]
  },
  {
   "cell_type": "code",
   "execution_count": 50,
   "id": "3e763c95-94b9-4493-b455-97eccb709a54",
   "metadata": {},
   "outputs": [],
   "source": [
    "x.clear()"
   ]
  },
  {
   "cell_type": "code",
   "execution_count": 51,
   "id": "f6cf3d02-0207-48fd-98c8-5a5c463baeeb",
   "metadata": {},
   "outputs": [
    {
     "data": {
      "text/plain": [
       "[]"
      ]
     },
     "execution_count": 51,
     "metadata": {},
     "output_type": "execute_result"
    }
   ],
   "source": [
    "x"
   ]
  },
  {
   "cell_type": "markdown",
   "id": "c39c1932-3bc8-4e18-9096-fc66e712acfc",
   "metadata": {},
   "source": [
    "## index, helps to find the position"
   ]
  },
  {
   "cell_type": "code",
   "execution_count": 52,
   "id": "3237189b-9c11-4660-af4a-e7cca71faef8",
   "metadata": {},
   "outputs": [],
   "source": [
    "x=[1,2,3,4,5]\n",
    "x2=[5,6,7,8,9]\n",
    "x.extend(x2)"
   ]
  },
  {
   "cell_type": "code",
   "execution_count": 53,
   "id": "89ce2986-75e2-49db-b9fd-7eeced582d9a",
   "metadata": {},
   "outputs": [
    {
     "data": {
      "text/plain": [
       "[1, 2, 3, 4, 5, 5, 6, 7, 8, 9]"
      ]
     },
     "execution_count": 53,
     "metadata": {},
     "output_type": "execute_result"
    }
   ],
   "source": [
    "x"
   ]
  },
  {
   "cell_type": "code",
   "execution_count": 71,
   "id": "2fa5c8c6-1cd7-459f-b0e5-66b11845e33f",
   "metadata": {},
   "outputs": [],
   "source": [
    "index=x.index(7)"
   ]
  },
  {
   "cell_type": "code",
   "execution_count": 72,
   "id": "d9a59bfe-bd5f-47ae-8d33-9d87f4bdf3ef",
   "metadata": {},
   "outputs": [
    {
     "data": {
      "text/plain": [
       "7"
      ]
     },
     "execution_count": 72,
     "metadata": {},
     "output_type": "execute_result"
    }
   ],
   "source": [
    "index"
   ]
  },
  {
   "cell_type": "code",
   "execution_count": 73,
   "id": "b78eaaea-ef32-4c3d-a2aa-5da222073f4a",
   "metadata": {},
   "outputs": [],
   "source": [
    "index1=x.index(4,0,5)"
   ]
  },
  {
   "cell_type": "code",
   "execution_count": 74,
   "id": "89711c8b-76c6-43f4-af9d-b5f677b1b681",
   "metadata": {},
   "outputs": [
    {
     "data": {
      "text/plain": [
       "3"
      ]
     },
     "execution_count": 74,
     "metadata": {},
     "output_type": "execute_result"
    }
   ],
   "source": [
    "index1"
   ]
  },
  {
   "cell_type": "code",
   "execution_count": 75,
   "id": "066a1f6c-654d-4a3e-8f95-00e555cc920d",
   "metadata": {},
   "outputs": [],
   "source": [
    "x.insert(1,5)"
   ]
  },
  {
   "cell_type": "code",
   "execution_count": 76,
   "id": "cb48747d-d042-4973-865b-118665f067e0",
   "metadata": {},
   "outputs": [
    {
     "data": {
      "text/plain": [
       "[1, 5, 2, 3, 4, 5, 5, 6, 7, 8, 9]"
      ]
     },
     "execution_count": 76,
     "metadata": {},
     "output_type": "execute_result"
    }
   ],
   "source": [
    "x"
   ]
  },
  {
   "cell_type": "markdown",
   "id": "3ac287ea-2a7b-416c-b17a-a3af5ab9862a",
   "metadata": {},
   "source": [
    "## sort"
   ]
  },
  {
   "cell_type": "code",
   "execution_count": 77,
   "id": "df5aafcc-a4f0-482f-9f4a-0a22be5bec58",
   "metadata": {},
   "outputs": [],
   "source": [
    "x.sort()"
   ]
  },
  {
   "cell_type": "code",
   "execution_count": 78,
   "id": "0e168be7-fa0e-4cdb-abb4-307b305c1d18",
   "metadata": {},
   "outputs": [
    {
     "data": {
      "text/plain": [
       "[1, 2, 3, 4, 5, 5, 5, 6, 7, 8, 9]"
      ]
     },
     "execution_count": 78,
     "metadata": {},
     "output_type": "execute_result"
    }
   ],
   "source": [
    "x"
   ]
  },
  {
   "cell_type": "code",
   "execution_count": null,
   "id": "02fc7f89-e6ae-45fb-b614-ee73e4a5b253",
   "metadata": {},
   "outputs": [],
   "source": []
  }
 ],
 "metadata": {
  "kernelspec": {
   "display_name": "Python 3 (ipykernel)",
   "language": "python",
   "name": "python3"
  },
  "language_info": {
   "codemirror_mode": {
    "name": "ipython",
    "version": 3
   },
   "file_extension": ".py",
   "mimetype": "text/x-python",
   "name": "python",
   "nbconvert_exporter": "python",
   "pygments_lexer": "ipython3",
   "version": "3.13.5"
  }
 },
 "nbformat": 4,
 "nbformat_minor": 5
}
