{
 "cells": [
  {
   "cell_type": "code",
   "execution_count": 40,
   "id": "56bfc473-8b73-480b-b54f-3f9288b75349",
   "metadata": {},
   "outputs": [],
   "source": [
    "set1={1,2,3,4,5}"
   ]
  },
  {
   "cell_type": "code",
   "execution_count": 41,
   "id": "1e4dd7ca-09c1-4f94-9022-0fdb6bdf0b35",
   "metadata": {},
   "outputs": [
    {
     "data": {
      "text/plain": [
       "{1, 2, 3, 4, 5}"
      ]
     },
     "execution_count": 41,
     "metadata": {},
     "output_type": "execute_result"
    }
   ],
   "source": [
    "set1"
   ]
  },
  {
   "cell_type": "code",
   "execution_count": 42,
   "id": "c5670331-a915-427f-85fa-bf87632eaac5",
   "metadata": {},
   "outputs": [
    {
     "data": {
      "text/plain": [
       "set"
      ]
     },
     "execution_count": 42,
     "metadata": {},
     "output_type": "execute_result"
    }
   ],
   "source": [
    "type(set1)"
   ]
  },
  {
   "cell_type": "code",
   "execution_count": 43,
   "id": "49b3793f-b7b8-4ac9-bd7f-77d702710f23",
   "metadata": {},
   "outputs": [],
   "source": [
    "# Creating a set from a list using the set() constructor\n",
    "set2 = set([7,8, 6, 4, 5, 7, 8])"
   ]
  },
  {
   "cell_type": "code",
   "execution_count": 44,
   "id": "f4bdc32d-927a-4c02-a340-66cc3dd21b0a",
   "metadata": {},
   "outputs": [
    {
     "data": {
      "text/plain": [
       "{4, 5, 6, 7, 8}"
      ]
     },
     "execution_count": 44,
     "metadata": {},
     "output_type": "execute_result"
    }
   ],
   "source": [
    "set2"
   ]
  },
  {
   "cell_type": "code",
   "execution_count": 69,
   "id": "e54e255b-ac5f-44c9-be69-76935c0a3596",
   "metadata": {},
   "outputs": [],
   "source": [
    "teamA = {'India','Bangladesh','Pakistan','USA'}\n",
    "teamB = {'India', 'France','Bangladesh','UK', 'Sri Lanka', 'India'}"
   ]
  },
  {
   "cell_type": "code",
   "execution_count": 46,
   "id": "e6cf7ac9-7295-46fc-91e9-ddc5cd5fc56c",
   "metadata": {},
   "outputs": [
    {
     "name": "stdout",
     "output_type": "stream",
     "text": [
      "{'Bangladesh', 'India', 'Pakistan', 'USA'}\n",
      "{'Sri Lanka', 'India', 'France', 'Bangladesh', 'UK'}\n"
     ]
    }
   ],
   "source": [
    "print(teamA)\n",
    "print(teamB)"
   ]
  },
  {
   "cell_type": "code",
   "execution_count": 47,
   "id": "4572521e-27d8-448c-8f63-4b917a7f73d5",
   "metadata": {},
   "outputs": [],
   "source": [
    "teamA.add('Nepal')"
   ]
  },
  {
   "cell_type": "code",
   "execution_count": 48,
   "id": "e77ed0d8-c7c1-4439-b36f-86d3ce70ba75",
   "metadata": {},
   "outputs": [
    {
     "data": {
      "text/plain": [
       "{'Bangladesh', 'India', 'Nepal', 'Pakistan', 'USA'}"
      ]
     },
     "execution_count": 48,
     "metadata": {},
     "output_type": "execute_result"
    }
   ],
   "source": [
    "teamA"
   ]
  },
  {
   "cell_type": "markdown",
   "id": "5e6bb081-ac41-4988-81cd-6d447ae67ecc",
   "metadata": {},
   "source": [
    "# Union"
   ]
  },
  {
   "cell_type": "code",
   "execution_count": 49,
   "id": "3a190879-4a9e-4115-91e1-95b324ba98a4",
   "metadata": {},
   "outputs": [
    {
     "name": "stdout",
     "output_type": "stream",
     "text": [
      "{'Sri Lanka', 'Nepal', 'Bangladesh', 'Pakistan', 'India', 'USA', 'France', 'UK'}\n"
     ]
    }
   ],
   "source": [
    "\n",
    "print(teamA.union(teamB))"
   ]
  },
  {
   "cell_type": "code",
   "execution_count": 50,
   "id": "70a068d5-8400-4d61-8d61-d8bd5cb0450c",
   "metadata": {},
   "outputs": [
    {
     "name": "stdout",
     "output_type": "stream",
     "text": [
      "{'Sri Lanka', 'Nepal', 'Bangladesh', 'Pakistan', 'India', 'USA', 'France', 'UK'}\n"
     ]
    }
   ],
   "source": [
    "print(teamA | teamB)"
   ]
  },
  {
   "cell_type": "markdown",
   "id": "d4976075-cd7a-4d72-bd18-767f4c547300",
   "metadata": {},
   "source": [
    "# intersection"
   ]
  },
  {
   "cell_type": "code",
   "execution_count": 51,
   "id": "3693dc6e-9412-48de-8edc-6938e59d0efd",
   "metadata": {},
   "outputs": [
    {
     "name": "stdout",
     "output_type": "stream",
     "text": [
      "{'Bangladesh', 'India'}\n"
     ]
    }
   ],
   "source": [
    "print(teamA.intersection(teamB))"
   ]
  },
  {
   "cell_type": "code",
   "execution_count": 52,
   "id": "2c968dea-5dac-44e1-9e0a-6aecb7c00db1",
   "metadata": {},
   "outputs": [
    {
     "name": "stdout",
     "output_type": "stream",
     "text": [
      "{'Bangladesh', 'India'}\n"
     ]
    }
   ],
   "source": [
    "print(teamA & teamB)"
   ]
  },
  {
   "cell_type": "markdown",
   "id": "0b84063d-fba0-406c-8f9e-391dbcea6d9c",
   "metadata": {},
   "source": [
    "# Difference"
   ]
  },
  {
   "cell_type": "code",
   "execution_count": 53,
   "id": "a1f3d701-73d6-4d8e-be0b-128fc71c202c",
   "metadata": {},
   "outputs": [
    {
     "name": "stdout",
     "output_type": "stream",
     "text": [
      "{'Nepal', 'Pakistan', 'USA'}\n"
     ]
    }
   ],
   "source": [
    "print(teamA-teamB)"
   ]
  },
  {
   "cell_type": "code",
   "execution_count": 54,
   "id": "04450c96-0ad7-495f-b6fd-cc1285c26e18",
   "metadata": {},
   "outputs": [
    {
     "name": "stdout",
     "output_type": "stream",
     "text": [
      "{'France', 'UK', 'Sri Lanka'}\n"
     ]
    }
   ],
   "source": [
    "print(teamB-teamA)"
   ]
  },
  {
   "cell_type": "markdown",
   "id": "ab9f1114-79b5-43d7-8995-d100418b2dfa",
   "metadata": {},
   "source": [
    "# Symmetric Difference"
   ]
  },
  {
   "cell_type": "code",
   "execution_count": 55,
   "id": "a0cbfa91-0f74-4932-820e-14fc8f74e3d0",
   "metadata": {},
   "outputs": [
    {
     "name": "stdout",
     "output_type": "stream",
     "text": [
      "{'Sri Lanka', 'Nepal', 'USA', 'France', 'UK', 'Pakistan'}\n"
     ]
    }
   ],
   "source": [
    "print(teamB ^ teamA)"
   ]
  },
  {
   "cell_type": "code",
   "execution_count": 56,
   "id": "1d44a142-a2a6-4f8b-b661-1945b6a03378",
   "metadata": {},
   "outputs": [
    {
     "name": "stdout",
     "output_type": "stream",
     "text": [
      "{'Sri Lanka', 'USA', 'Nepal', 'France', 'UK', 'Pakistan'}\n"
     ]
    }
   ],
   "source": [
    "print(teamA ^ teamB)"
   ]
  },
  {
   "cell_type": "code",
   "execution_count": 57,
   "id": "8b35626d-ce64-4fb2-9656-8082d20f17e7",
   "metadata": {},
   "outputs": [
    {
     "data": {
      "text/plain": [
       "{'France', 'Nepal', 'Pakistan', 'Sri Lanka', 'UK', 'USA'}"
      ]
     },
     "execution_count": 57,
     "metadata": {},
     "output_type": "execute_result"
    }
   ],
   "source": [
    "result=teamA.symmetric_difference(teamB)\n",
    "result"
   ]
  },
  {
   "cell_type": "markdown",
   "id": "a7e1d806-fa5c-4d73-94cf-18e2d588e08d",
   "metadata": {},
   "source": [
    "# Membership Testing"
   ]
  },
  {
   "cell_type": "code",
   "execution_count": 58,
   "id": "ac415a9d-1262-4455-a80f-07af2b3a0c9e",
   "metadata": {},
   "outputs": [
    {
     "data": {
      "text/plain": [
       "False"
      ]
     },
     "execution_count": 58,
     "metadata": {},
     "output_type": "execute_result"
    }
   ],
   "source": [
    "\n",
    "teamA in teamB"
   ]
  },
  {
   "cell_type": "code",
   "execution_count": 59,
   "id": "0ed7d394-f7f8-4353-8d9c-5fc1b6509df9",
   "metadata": {},
   "outputs": [
    {
     "data": {
      "text/plain": [
       "True"
      ]
     },
     "execution_count": 59,
     "metadata": {},
     "output_type": "execute_result"
    }
   ],
   "source": [
    "\n",
    "'India' in teamA"
   ]
  },
  {
   "cell_type": "code",
   "execution_count": 60,
   "id": "e27ad89d-9323-480f-8127-bfc1095342fc",
   "metadata": {},
   "outputs": [
    {
     "data": {
      "text/plain": [
       "{1947, 'India', True}"
      ]
     },
     "execution_count": 60,
     "metadata": {},
     "output_type": "execute_result"
    }
   ],
   "source": [
    "mixedset = {'India', 1947, True, 'India'}\n",
    "mixedset"
   ]
  },
  {
   "cell_type": "code",
   "execution_count": 61,
   "id": "ddebdc84-1ae1-452f-b7b9-ccd50f8e63de",
   "metadata": {},
   "outputs": [
    {
     "data": {
      "text/plain": [
       "set"
      ]
     },
     "execution_count": 61,
     "metadata": {},
     "output_type": "execute_result"
    }
   ],
   "source": [
    "type(mixedset)"
   ]
  },
  {
   "cell_type": "code",
   "execution_count": 62,
   "id": "f09c1994-1abc-4ed6-93cc-19aa94bc2dae",
   "metadata": {},
   "outputs": [
    {
     "data": {
      "text/plain": [
       "True"
      ]
     },
     "execution_count": 62,
     "metadata": {},
     "output_type": "execute_result"
    }
   ],
   "source": [
    "'India' in teamA and 'Pakistan' in teamA"
   ]
  },
  {
   "cell_type": "code",
   "execution_count": 63,
   "id": "342d7280-bf12-4cfd-bff2-17acd73a66ce",
   "metadata": {},
   "outputs": [
    {
     "name": "stdout",
     "output_type": "stream",
     "text": [
      "Nepal\n",
      "Bangladesh\n",
      "Pakistan\n",
      "India\n",
      "USA\n"
     ]
    }
   ],
   "source": [
    "for i in teamA:\n",
    "    print(i)"
   ]
  },
  {
   "cell_type": "code",
   "execution_count": 71,
   "id": "7ad60495-664e-4a41-8d91-40fc37b47a59",
   "metadata": {},
   "outputs": [],
   "source": [
    "t1 = ('India','UK', 'USA', 'Bangladesh')"
   ]
  },
  {
   "cell_type": "code",
   "execution_count": 74,
   "id": "d07754d9-61c1-4a49-9218-9a92c03902d7",
   "metadata": {},
   "outputs": [
    {
     "name": "stdout",
     "output_type": "stream",
     "text": [
      "Bangladesh True\n",
      "India True\n",
      "Pakistan True\n",
      "USA True\n"
     ]
    }
   ],
   "source": [
    "for i in teamA:\n",
    "    print(i, i in teamA)"
   ]
  },
  {
   "cell_type": "code",
   "execution_count": null,
   "id": "31bb5cae-54d3-447f-9001-179254b80728",
   "metadata": {},
   "outputs": [],
   "source": []
  }
 ],
 "metadata": {
  "kernelspec": {
   "display_name": "Python 3 (ipykernel)",
   "language": "python",
   "name": "python3"
  },
  "language_info": {
   "codemirror_mode": {
    "name": "ipython",
    "version": 3
   },
   "file_extension": ".py",
   "mimetype": "text/x-python",
   "name": "python",
   "nbconvert_exporter": "python",
   "pygments_lexer": "ipython3",
   "version": "3.13.5"
  }
 },
 "nbformat": 4,
 "nbformat_minor": 5
}
