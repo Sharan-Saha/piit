{
 "cells": [
  {
   "cell_type": "code",
   "execution_count": 1,
   "id": "a2dd1771-3e5f-4222-a0ca-43c1df50f7c6",
   "metadata": {},
   "outputs": [
    {
     "name": "stdout",
     "output_type": "stream",
     "text": [
      "Hello PIIT Students\n"
     ]
    }
   ],
   "source": [
    "print('Hello PIIT Students')"
   ]
  },
  {
   "cell_type": "code",
   "execution_count": 2,
   "id": "6d557538-9588-408c-9377-2ef8346cd6e2",
   "metadata": {},
   "outputs": [
    {
     "name": "stdout",
     "output_type": "stream",
     "text": [
      "PIIT, Mandal, Suroor, 30\n"
     ]
    }
   ],
   "source": [
    "\n",
    "print('PIIT', 'Mandal', 'Suroor', 30, sep =', ')"
   ]
  },
  {
   "cell_type": "code",
   "execution_count": 3,
   "id": "8419cc40-38db-4dd8-bdc2-7e2be4ec6652",
   "metadata": {},
   "outputs": [
    {
     "name": "stdout",
     "output_type": "stream",
     "text": [
      "PIIT Mandal Suroor 30\n"
     ]
    }
   ],
   "source": [
    "print('PIIT', 'Mandal', 'Suroor', 30)"
   ]
  },
  {
   "cell_type": "code",
   "execution_count": 4,
   "id": "614e85b0-dbbc-4f77-b2d4-66372c02f8e1",
   "metadata": {},
   "outputs": [
    {
     "name": "stdout",
     "output_type": "stream",
     "text": [
      "PIIT<> Mandal<> Suroor<> 30\n"
     ]
    }
   ],
   "source": [
    "print('PIIT', 'Mandal', 'Suroor', 30, sep ='<> ')"
   ]
  },
  {
   "cell_type": "code",
   "execution_count": 6,
   "id": "65e0b02a-1f64-4e0e-9027-9887d8fa4c30",
   "metadata": {},
   "outputs": [
    {
     "name": "stdout",
     "output_type": "stream",
     "text": [
      "Nayeema, Suroor:):):)"
     ]
    }
   ],
   "source": [
    "\n",
    "print('Nayeema' , 'Suroor', sep =', ',  end = ':):):)')"
   ]
  },
  {
   "cell_type": "code",
   "execution_count": 7,
   "id": "601e2d5a-c663-4350-b432-3ee9bbdfd975",
   "metadata": {},
   "outputs": [
    {
     "name": "stdout",
     "output_type": "stream",
     "text": [
      "Hello Mandal******* "
     ]
    }
   ],
   "source": [
    "\n",
    "print('Hello', 'Mandal' , end='******* ')"
   ]
  },
  {
   "cell_type": "code",
   "execution_count": 9,
   "id": "3fecf35d-897d-4fff-ba53-411ffa8d55ba",
   "metadata": {},
   "outputs": [
    {
     "name": "stdout",
     "output_type": "stream",
     "text": [
      "Hello Mandal\n",
      "PIIT Students \n"
     ]
    }
   ],
   "source": [
    "\n",
    "print('Hello', 'Mandal' , end='\\n') #works as enter, goes to next line\n",
    "print('PIIT Students ')"
   ]
  },
  {
   "cell_type": "code",
   "execution_count": 10,
   "id": "aec871c2-6920-4272-9bd8-c7c89d674f83",
   "metadata": {},
   "outputs": [
    {
     "name": "stdout",
     "output_type": "stream",
     "text": [
      "Mandal- 95\n"
     ]
    }
   ],
   "source": [
    "name = \"Mandal\"\n",
    "score = 95\n",
    "print(name, score, sep='- ')"
   ]
  },
  {
   "cell_type": "code",
   "execution_count": 11,
   "id": "2293f59c-3b7a-4c08-a19e-58f0ea38eb99",
   "metadata": {},
   "outputs": [
    {
     "name": "stdout",
     "output_type": "stream",
     "text": [
      "Mandal  scored  95  marks.\n"
     ]
    }
   ],
   "source": [
    "print( name, ' scored ', score, ' marks.')"
   ]
  },
  {
   "cell_type": "code",
   "execution_count": 14,
   "id": "ff138eb2-9a3a-4bd3-8319-48517d0bab28",
   "metadata": {},
   "outputs": [],
   "source": [
    "rank =1"
   ]
  },
  {
   "cell_type": "code",
   "execution_count": 15,
   "id": "b5b51194-9c16-4045-ba6f-8bc55cf5e67b",
   "metadata": {},
   "outputs": [
    {
     "name": "stdout",
     "output_type": "stream",
     "text": [
      "Mandal scored 95 marks and his rank was 1.\n"
     ]
    }
   ],
   "source": [
    "print(f\"{name} scored {score} marks and his rank was {rank}.\")"
   ]
  },
  {
   "cell_type": "code",
   "execution_count": 16,
   "id": "b65b2732-7411-4873-95ce-18a78d230a1c",
   "metadata": {},
   "outputs": [
    {
     "name": "stdout",
     "output_type": "stream",
     "text": [
      "name of student is Amandeep and his/her age is 20\n"
     ]
    }
   ],
   "source": [
    "name, age = 'Amandeep', 20\n",
    "print( f'name of student is {name} and his/her age is {age}')"
   ]
  },
  {
   "cell_type": "code",
   "execution_count": 17,
   "id": "b84374bb-defe-41be-b9ae-2d12853f86d7",
   "metadata": {},
   "outputs": [
    {
     "name": "stdout",
     "output_type": "stream",
     "text": [
      "Name: Suroor, Score: 85\n"
     ]
    }
   ],
   "source": [
    "print(\"Name: {}, Score: {}\".format(\"Suroor\", 85))"
   ]
  },
  {
   "cell_type": "code",
   "execution_count": 18,
   "id": "7f4aadff-13cc-4918-9064-139f94399b33",
   "metadata": {},
   "outputs": [
    {
     "name": "stdout",
     "output_type": "stream",
     "text": [
      "name  : Amandeep, age : 20\n"
     ]
    }
   ],
   "source": [
    "print(\"name  : {}, age : {}\".format('Amandeep', 20))"
   ]
  },
  {
   "cell_type": "code",
   "execution_count": null,
   "id": "ebfedbb0-a6be-4bb3-9043-cc65b5bae72e",
   "metadata": {},
   "outputs": [],
   "source": []
  }
 ],
 "metadata": {
  "kernelspec": {
   "display_name": "Python 3 (ipykernel)",
   "language": "python",
   "name": "python3"
  },
  "language_info": {
   "codemirror_mode": {
    "name": "ipython",
    "version": 3
   },
   "file_extension": ".py",
   "mimetype": "text/x-python",
   "name": "python",
   "nbconvert_exporter": "python",
   "pygments_lexer": "ipython3",
   "version": "3.13.5"
  }
 },
 "nbformat": 4,
 "nbformat_minor": 5
}
