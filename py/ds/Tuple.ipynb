{
 "cells": [
  {
   "cell_type": "code",
   "execution_count": 1,
   "id": "ec8cf505-5be0-4394-988d-d50a37a9d820",
   "metadata": {},
   "outputs": [],
   "source": [
    "fruits= (\"apple\",\"banana\", \"cherry\")"
   ]
  },
  {
   "cell_type": "code",
   "execution_count": 2,
   "id": "a72994d3-8921-45c9-bd1a-9e89a7eae432",
   "metadata": {},
   "outputs": [
    {
     "data": {
      "text/plain": [
       "('apple', 'banana', 'cherry')"
      ]
     },
     "execution_count": 2,
     "metadata": {},
     "output_type": "execute_result"
    }
   ],
   "source": [
    "fruits"
   ]
  },
  {
   "cell_type": "code",
   "execution_count": 4,
   "id": "573eeae0-f01e-47fd-b28b-a762901b627e",
   "metadata": {},
   "outputs": [],
   "source": [
    "mixed_tuple=(\"apple\",\"banana\", \"cherry\",1,2,5.7)"
   ]
  },
  {
   "cell_type": "code",
   "execution_count": 5,
   "id": "74fa552a-c605-47a6-b48f-aa928c34e18f",
   "metadata": {},
   "outputs": [
    {
     "data": {
      "text/plain": [
       "('apple', 'banana', 'cherry', 1, 2, 5.7)"
      ]
     },
     "execution_count": 5,
     "metadata": {},
     "output_type": "execute_result"
    }
   ],
   "source": [
    "mixed_tuple"
   ]
  },
  {
   "cell_type": "code",
   "execution_count": 6,
   "id": "9822e69d-85ee-4d79-91bf-16f93ff477c7",
   "metadata": {},
   "outputs": [
    {
     "data": {
      "text/plain": [
       "5.7"
      ]
     },
     "execution_count": 6,
     "metadata": {},
     "output_type": "execute_result"
    }
   ],
   "source": [
    "mixed_tuple[5]"
   ]
  },
  {
   "cell_type": "code",
   "execution_count": 8,
   "id": "2da8056d-1a8d-43bf-8ec8-a978eb3bee11",
   "metadata": {},
   "outputs": [
    {
     "data": {
      "text/plain": [
       "'cherry'"
      ]
     },
     "execution_count": 8,
     "metadata": {},
     "output_type": "execute_result"
    }
   ],
   "source": [
    "mixed_tuple[2]"
   ]
  },
  {
   "cell_type": "code",
   "execution_count": 10,
   "id": "2a56dd36-713d-4da9-b65b-9ce1cc08a303",
   "metadata": {},
   "outputs": [
    {
     "name": "stdout",
     "output_type": "stream",
     "text": [
      "['count', 'index']\n"
     ]
    }
   ],
   "source": [
    "methods = [method for method in dir(tuple) if callable(getattr(tuple, method)) and not method.startswith('__')]\n",
    "print(methods)"
   ]
  },
  {
   "cell_type": "code",
   "execution_count": 12,
   "id": "f1595689-b39f-4e90-9ace-6e608b70db15",
   "metadata": {},
   "outputs": [
    {
     "data": {
      "text/plain": [
       "1"
      ]
     },
     "execution_count": 12,
     "metadata": {},
     "output_type": "execute_result"
    }
   ],
   "source": [
    "mixed_tuple.count(2)"
   ]
  },
  {
   "cell_type": "code",
   "execution_count": 13,
   "id": "9390db39-2cb1-4aab-a2e1-91731100cc04",
   "metadata": {},
   "outputs": [
    {
     "data": {
      "text/plain": [
       "4"
      ]
     },
     "execution_count": 13,
     "metadata": {},
     "output_type": "execute_result"
    }
   ],
   "source": [
    "mixed_tuple.index(2,0,6)"
   ]
  },
  {
   "cell_type": "code",
   "execution_count": 14,
   "id": "da050d7f-674f-4fef-9d2a-354c41497ebf",
   "metadata": {},
   "outputs": [
    {
     "data": {
      "text/plain": [
       "6"
      ]
     },
     "execution_count": 14,
     "metadata": {},
     "output_type": "execute_result"
    }
   ],
   "source": [
    "len(mixed_tuple)"
   ]
  },
  {
   "cell_type": "code",
   "execution_count": 18,
   "id": "c6071eb7-0841-4083-9d6e-5e4a018d76fa",
   "metadata": {},
   "outputs": [],
   "source": [
    "x=(0,1,2,3,4,5,6,7,8,9,5,6,7,8,9)"
   ]
  },
  {
   "cell_type": "code",
   "execution_count": 19,
   "id": "5ab34d73-748e-42df-a741-09173c9de614",
   "metadata": {},
   "outputs": [
    {
     "data": {
      "text/plain": [
       "9"
      ]
     },
     "execution_count": 19,
     "metadata": {},
     "output_type": "execute_result"
    }
   ],
   "source": [
    "max(x)"
   ]
  },
  {
   "cell_type": "code",
   "execution_count": 20,
   "id": "2a5b2585-e1fd-4d06-8dce-a90cc6ba93ca",
   "metadata": {},
   "outputs": [
    {
     "data": {
      "text/plain": [
       "0"
      ]
     },
     "execution_count": 20,
     "metadata": {},
     "output_type": "execute_result"
    }
   ],
   "source": [
    "min(x)"
   ]
  },
  {
   "cell_type": "code",
   "execution_count": 21,
   "id": "ad821a69-ebcd-4008-9c7a-c15105479d06",
   "metadata": {},
   "outputs": [
    {
     "data": {
      "text/plain": [
       "2"
      ]
     },
     "execution_count": 21,
     "metadata": {},
     "output_type": "execute_result"
    }
   ],
   "source": [
    "x.count(5)"
   ]
  },
  {
   "cell_type": "code",
   "execution_count": null,
   "id": "c8a94a8d-07a7-490a-b407-29a0ab52b8b3",
   "metadata": {},
   "outputs": [],
   "source": []
  }
 ],
 "metadata": {
  "kernelspec": {
   "display_name": "Python 3 (ipykernel)",
   "language": "python",
   "name": "python3"
  },
  "language_info": {
   "codemirror_mode": {
    "name": "ipython",
    "version": 3
   },
   "file_extension": ".py",
   "mimetype": "text/x-python",
   "name": "python",
   "nbconvert_exporter": "python",
   "pygments_lexer": "ipython3",
   "version": "3.13.5"
  }
 },
 "nbformat": 4,
 "nbformat_minor": 5
}
