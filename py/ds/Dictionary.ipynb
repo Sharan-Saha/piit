{
 "cells": [
  {
   "cell_type": "code",
   "execution_count": 3,
   "id": "f9a9b081-62d8-4e18-9d6a-e32866a53346",
   "metadata": {},
   "outputs": [],
   "source": [
    "student= {\n",
    "    \"name\":\"Akshansh\",\n",
    "    \"age\":20,\n",
    "    \"major\":\"Data science\"\n",
    "}\n"
   ]
  },
  {
   "cell_type": "code",
   "execution_count": 4,
   "id": "09def9ca-8c13-4e24-b3b8-9351db1c0842",
   "metadata": {},
   "outputs": [
    {
     "data": {
      "text/plain": [
       "{'name': 'Akshansh', 'age': 20, 'major': 'Data science'}"
      ]
     },
     "execution_count": 4,
     "metadata": {},
     "output_type": "execute_result"
    }
   ],
   "source": [
    "student"
   ]
  },
  {
   "cell_type": "code",
   "execution_count": 6,
   "id": "785fddb1-a5cb-46e1-b36d-455b2e0627ba",
   "metadata": {},
   "outputs": [
    {
     "name": "stdout",
     "output_type": "stream",
     "text": [
      "Akshansh\n"
     ]
    }
   ],
   "source": [
    "print(student[\"name\"])"
   ]
  },
  {
   "cell_type": "code",
   "execution_count": 7,
   "id": "d63080db-7a14-4897-963d-d3981651b722",
   "metadata": {},
   "outputs": [
    {
     "name": "stdout",
     "output_type": "stream",
     "text": [
      "20\n"
     ]
    }
   ],
   "source": [
    "print(student[\"age\"])"
   ]
  },
  {
   "cell_type": "code",
   "execution_count": 8,
   "id": "95464bbf-07d2-432a-9d42-d995c93ca741",
   "metadata": {},
   "outputs": [],
   "source": [
    "student[\"gpa\"]=3.7"
   ]
  },
  {
   "cell_type": "code",
   "execution_count": 9,
   "id": "d5b0b34b-3730-4fd1-9259-de9b51a4a184",
   "metadata": {},
   "outputs": [
    {
     "data": {
      "text/plain": [
       "{'name': 'Akshansh', 'age': 20, 'major': 'Data science', 'gpa': 3.7}"
      ]
     },
     "execution_count": 9,
     "metadata": {},
     "output_type": "execute_result"
    }
   ],
   "source": [
    "student"
   ]
  },
  {
   "cell_type": "code",
   "execution_count": 10,
   "id": "d82784d2-6501-4efb-ae63-730297166cf8",
   "metadata": {},
   "outputs": [],
   "source": [
    "student[\"age\"]=35"
   ]
  },
  {
   "cell_type": "code",
   "execution_count": 11,
   "id": "f24de8a9-0ff8-4ca2-b9de-9b5c963c76e5",
   "metadata": {},
   "outputs": [
    {
     "data": {
      "text/plain": [
       "{'name': 'Akshansh', 'age': 35, 'major': 'Data science', 'gpa': 3.7}"
      ]
     },
     "execution_count": 11,
     "metadata": {},
     "output_type": "execute_result"
    }
   ],
   "source": [
    "student"
   ]
  },
  {
   "cell_type": "code",
   "execution_count": 12,
   "id": "38b3c6af-a9b8-446b-87f6-cf78f756b560",
   "metadata": {},
   "outputs": [
    {
     "data": {
      "text/plain": [
       "dict_keys(['name', 'age', 'major', 'gpa'])"
      ]
     },
     "execution_count": 12,
     "metadata": {},
     "output_type": "execute_result"
    }
   ],
   "source": [
    "student.keys()"
   ]
  },
  {
   "cell_type": "code",
   "execution_count": 13,
   "id": "db196b2e-e92f-494b-8466-29908e62c138",
   "metadata": {},
   "outputs": [
    {
     "data": {
      "text/plain": [
       "dict_values(['Akshansh', 35, 'Data science', 3.7])"
      ]
     },
     "execution_count": 13,
     "metadata": {},
     "output_type": "execute_result"
    }
   ],
   "source": [
    "student.values()"
   ]
  },
  {
   "cell_type": "code",
   "execution_count": 14,
   "id": "c3be22a1-928c-4c9b-a5b3-2b6321266b21",
   "metadata": {},
   "outputs": [
    {
     "name": "stdout",
     "output_type": "stream",
     "text": [
      "name:Akshansh\n",
      "age:35\n",
      "major:Data science\n",
      "gpa:3.7\n"
     ]
    }
   ],
   "source": [
    "for key, value in student.items():\n",
    "    print(f\"{key}:{value}\")"
   ]
  },
  {
   "cell_type": "code",
   "execution_count": 16,
   "id": "fb244183-ec58-4fd1-bc20-f48bbd4ae0fa",
   "metadata": {},
   "outputs": [],
   "source": [
    "del student[\"age\"]"
   ]
  },
  {
   "cell_type": "code",
   "execution_count": 17,
   "id": "50a9d5c9-2550-4778-bffe-ff151a1eaa93",
   "metadata": {},
   "outputs": [
    {
     "data": {
      "text/plain": [
       "{'name': 'Akshansh', 'major': 'Data science', 'gpa': 3.7}"
      ]
     },
     "execution_count": 17,
     "metadata": {},
     "output_type": "execute_result"
    }
   ],
   "source": [
    "student"
   ]
  },
  {
   "cell_type": "code",
   "execution_count": null,
   "id": "0fb914fb-4c56-4e72-89f7-34cb1666a7c7",
   "metadata": {},
   "outputs": [],
   "source": []
  }
 ],
 "metadata": {
  "kernelspec": {
   "display_name": "Python 3 (ipykernel)",
   "language": "python",
   "name": "python3"
  },
  "language_info": {
   "codemirror_mode": {
    "name": "ipython",
    "version": 3
   },
   "file_extension": ".py",
   "mimetype": "text/x-python",
   "name": "python",
   "nbconvert_exporter": "python",
   "pygments_lexer": "ipython3",
   "version": "3.13.5"
  }
 },
 "nbformat": 4,
 "nbformat_minor": 5
}
